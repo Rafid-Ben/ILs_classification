{
 "cells": [
  {
   "cell_type": "code",
   "execution_count": 1,
   "metadata": {},
   "outputs": [],
   "source": [
    "import numpy as np\n",
    "import pandas as pd\n",
    "import matplotlib.pyplot as plt\n",
    "from SmilesPE.pretokenizer import kmer_tokenizer"
   ]
  },
  {
   "cell_type": "code",
   "execution_count": 2,
   "metadata": {},
   "outputs": [
    {
     "data": {
      "text/html": [
       "<div>\n",
       "<style scoped>\n",
       "    .dataframe tbody tr th:only-of-type {\n",
       "        vertical-align: middle;\n",
       "    }\n",
       "\n",
       "    .dataframe tbody tr th {\n",
       "        vertical-align: top;\n",
       "    }\n",
       "\n",
       "    .dataframe thead th {\n",
       "        text-align: right;\n",
       "    }\n",
       "</style>\n",
       "<table border=\"1\" class=\"dataframe\">\n",
       "  <thead>\n",
       "    <tr style=\"text-align: right;\">\n",
       "      <th></th>\n",
       "      <th>Cation_Name</th>\n",
       "      <th>Anion_Name</th>\n",
       "      <th>Cation_SMILES</th>\n",
       "      <th>Anion_SMILES</th>\n",
       "      <th>Cation_Mass</th>\n",
       "      <th>Anion_Mass</th>\n",
       "      <th>Density</th>\n",
       "    </tr>\n",
       "  </thead>\n",
       "  <tbody>\n",
       "    <tr>\n",
       "      <th>0</th>\n",
       "      <td>azp-2o1,1</td>\n",
       "      <td>ntf2</td>\n",
       "      <td>COCC[N+]1(C)CCCCCC1</td>\n",
       "      <td>FC(F)(F)S(=O)(=O)[N-]S(=O)(=O)C(F)(F)F</td>\n",
       "      <td>172.288</td>\n",
       "      <td>280.147</td>\n",
       "      <td>1417.947600</td>\n",
       "    </tr>\n",
       "    <tr>\n",
       "      <th>1</th>\n",
       "      <td>azp-2o1,1</td>\n",
       "      <td>otf</td>\n",
       "      <td>COCC[N+]1(C)CCCCCC1</td>\n",
       "      <td>[O-]S(=O)(=O)C(F)(F)F</td>\n",
       "      <td>172.288</td>\n",
       "      <td>149.070</td>\n",
       "      <td>1291.523106</td>\n",
       "    </tr>\n",
       "    <tr>\n",
       "      <th>2</th>\n",
       "      <td>azp-2o1,1</td>\n",
       "      <td>tfa</td>\n",
       "      <td>COCC[N+]1(C)CCCCCC1</td>\n",
       "      <td>[O-]C(=O)C(F)(F)F</td>\n",
       "      <td>172.288</td>\n",
       "      <td>113.016</td>\n",
       "      <td>1217.826112</td>\n",
       "    </tr>\n",
       "    <tr>\n",
       "      <th>3</th>\n",
       "      <td>azp-2o1,2o1</td>\n",
       "      <td>ntf2</td>\n",
       "      <td>COCC[N+]1(CCOC)CCCCCC1</td>\n",
       "      <td>FC(F)(F)S(=O)(=O)[N-]S(=O)(=O)C(F)(F)F</td>\n",
       "      <td>216.344</td>\n",
       "      <td>280.147</td>\n",
       "      <td>1339.338886</td>\n",
       "    </tr>\n",
       "    <tr>\n",
       "      <th>4</th>\n",
       "      <td>azp-4,1</td>\n",
       "      <td>ntf2</td>\n",
       "      <td>CCCC[N+]1(C)CCCCCC1</td>\n",
       "      <td>FC(F)(F)S(=O)(=O)[N-]S(=O)(=O)C(F)(F)F</td>\n",
       "      <td>170.315</td>\n",
       "      <td>280.147</td>\n",
       "      <td>1372.903069</td>\n",
       "    </tr>\n",
       "    <tr>\n",
       "      <th>...</th>\n",
       "      <td>...</td>\n",
       "      <td>...</td>\n",
       "      <td>...</td>\n",
       "      <td>...</td>\n",
       "      <td>...</td>\n",
       "      <td>...</td>\n",
       "      <td>...</td>\n",
       "    </tr>\n",
       "    <tr>\n",
       "      <th>1156</th>\n",
       "      <td>turea-6,(2,0),(2,0)</td>\n",
       "      <td>ntf2</td>\n",
       "      <td>CCCCCC[S+]=C(NCC)NCC</td>\n",
       "      <td>FC(F)(F)S(=O)(=O)[N-]S(=O)(=O)C(F)(F)F</td>\n",
       "      <td>217.390</td>\n",
       "      <td>280.147</td>\n",
       "      <td>1324.076648</td>\n",
       "    </tr>\n",
       "    <tr>\n",
       "      <th>1157</th>\n",
       "      <td>turea-6</td>\n",
       "      <td>ntf2</td>\n",
       "      <td>CCCCCC[S+]=C(N)N</td>\n",
       "      <td>FC(F)(F)S(=O)(=O)[N-]S(=O)(=O)C(F)(F)F</td>\n",
       "      <td>161.286</td>\n",
       "      <td>280.147</td>\n",
       "      <td>1424.966059</td>\n",
       "    </tr>\n",
       "    <tr>\n",
       "      <th>1158</th>\n",
       "      <td>turea-8,(1,0),(1,0)</td>\n",
       "      <td>ntf2</td>\n",
       "      <td>CCCCCCCC[S+]=C(NC)NC</td>\n",
       "      <td>FC(F)(F)S(=O)(=O)[N-]S(=O)(=O)C(F)(F)F</td>\n",
       "      <td>217.390</td>\n",
       "      <td>280.147</td>\n",
       "      <td>1316.227650</td>\n",
       "    </tr>\n",
       "    <tr>\n",
       "      <th>1159</th>\n",
       "      <td>turea-8,(1,1),(1,1)</td>\n",
       "      <td>ntf2</td>\n",
       "      <td>CCCCCCCC[S+]=C(N(C)C)N(C)C</td>\n",
       "      <td>FC(F)(F)S(=O)(=O)[N-]S(=O)(=O)C(F)(F)F</td>\n",
       "      <td>245.442</td>\n",
       "      <td>280.147</td>\n",
       "      <td>1296.708593</td>\n",
       "    </tr>\n",
       "    <tr>\n",
       "      <th>1160</th>\n",
       "      <td>turea-8,(2,0),(2,0)</td>\n",
       "      <td>ntf2</td>\n",
       "      <td>CCCCCCCC[S+]=C(NCC)NCC</td>\n",
       "      <td>FC(F)(F)S(=O)(=O)[N-]S(=O)(=O)C(F)(F)F</td>\n",
       "      <td>245.442</td>\n",
       "      <td>280.147</td>\n",
       "      <td>1247.528131</td>\n",
       "    </tr>\n",
       "  </tbody>\n",
       "</table>\n",
       "<p>1161 rows × 7 columns</p>\n",
       "</div>"
      ],
      "text/plain": [
       "              Cation_Name Anion_Name               Cation_SMILES  \\\n",
       "0               azp-2o1,1       ntf2         COCC[N+]1(C)CCCCCC1   \n",
       "1               azp-2o1,1        otf         COCC[N+]1(C)CCCCCC1   \n",
       "2               azp-2o1,1        tfa         COCC[N+]1(C)CCCCCC1   \n",
       "3             azp-2o1,2o1       ntf2      COCC[N+]1(CCOC)CCCCCC1   \n",
       "4                 azp-4,1       ntf2         CCCC[N+]1(C)CCCCCC1   \n",
       "...                   ...        ...                         ...   \n",
       "1156  turea-6,(2,0),(2,0)       ntf2        CCCCCC[S+]=C(NCC)NCC   \n",
       "1157              turea-6       ntf2            CCCCCC[S+]=C(N)N   \n",
       "1158  turea-8,(1,0),(1,0)       ntf2        CCCCCCCC[S+]=C(NC)NC   \n",
       "1159  turea-8,(1,1),(1,1)       ntf2  CCCCCCCC[S+]=C(N(C)C)N(C)C   \n",
       "1160  turea-8,(2,0),(2,0)       ntf2      CCCCCCCC[S+]=C(NCC)NCC   \n",
       "\n",
       "                                Anion_SMILES  Cation_Mass  Anion_Mass  \\\n",
       "0     FC(F)(F)S(=O)(=O)[N-]S(=O)(=O)C(F)(F)F      172.288     280.147   \n",
       "1                      [O-]S(=O)(=O)C(F)(F)F      172.288     149.070   \n",
       "2                          [O-]C(=O)C(F)(F)F      172.288     113.016   \n",
       "3     FC(F)(F)S(=O)(=O)[N-]S(=O)(=O)C(F)(F)F      216.344     280.147   \n",
       "4     FC(F)(F)S(=O)(=O)[N-]S(=O)(=O)C(F)(F)F      170.315     280.147   \n",
       "...                                      ...          ...         ...   \n",
       "1156  FC(F)(F)S(=O)(=O)[N-]S(=O)(=O)C(F)(F)F      217.390     280.147   \n",
       "1157  FC(F)(F)S(=O)(=O)[N-]S(=O)(=O)C(F)(F)F      161.286     280.147   \n",
       "1158  FC(F)(F)S(=O)(=O)[N-]S(=O)(=O)C(F)(F)F      217.390     280.147   \n",
       "1159  FC(F)(F)S(=O)(=O)[N-]S(=O)(=O)C(F)(F)F      245.442     280.147   \n",
       "1160  FC(F)(F)S(=O)(=O)[N-]S(=O)(=O)C(F)(F)F      245.442     280.147   \n",
       "\n",
       "          Density  \n",
       "0     1417.947600  \n",
       "1     1291.523106  \n",
       "2     1217.826112  \n",
       "3     1339.338886  \n",
       "4     1372.903069  \n",
       "...           ...  \n",
       "1156  1324.076648  \n",
       "1157  1424.966059  \n",
       "1158  1316.227650  \n",
       "1159  1296.708593  \n",
       "1160  1247.528131  \n",
       "\n",
       "[1161 rows x 7 columns]"
      ]
     },
     "execution_count": 2,
     "metadata": {},
     "output_type": "execute_result"
    }
   ],
   "source": [
    "df_density = pd.read_excel('clean_density_data.xlsx')\n",
    "df_density"
   ]
  },
  {
   "cell_type": "code",
   "execution_count": 3,
   "metadata": {},
   "outputs": [],
   "source": [
    "cation_smiles=df_density[\"Cation_SMILES\"]\n",
    "anion_smiles=df_density[\"Anion_SMILES\"]\n",
    "\n",
    "cation_mass=df_density[\"Cation_Mass\"]\n",
    "anion_mass=df_density[\"Anion_Mass\"]\n",
    "\n",
    "density=df_density[\"Density\"]"
   ]
  },
  {
   "cell_type": "markdown",
   "metadata": {},
   "source": [
    "# Tokenization"
   ]
  },
  {
   "cell_type": "code",
   "execution_count": 4,
   "metadata": {},
   "outputs": [
    {
     "name": "stdout",
     "output_type": "stream",
     "text": [
      "The size of the vocabulary of cations is 35 \n",
      "\n"
     ]
    }
   ],
   "source": [
    "tokenized_cation = [kmer_tokenizer(smile,1) for smile in cation_smiles] # list of lists\n",
    "# The number \"1\" means that it is atom-wise tokenization.\n",
    "all_characters_cation = [char for sublist in tokenized_cation for char in sublist] # flatten the list of lists\n",
    "vocab_cation = sorted(set(all_characters_cation))\n",
    "print('The size of the vocabulary of cations is',len(vocab_cation),'\\n')\n",
    "\n"
   ]
  },
  {
   "cell_type": "code",
   "execution_count": 5,
   "metadata": {},
   "outputs": [
    {
     "name": "stdout",
     "output_type": "stream",
     "text": [
      "The size of the vocabulary of anion is 49 \n",
      "\n"
     ]
    }
   ],
   "source": [
    "tokenized_anion = [kmer_tokenizer(smile,1) for smile in anion_smiles] # list of lists\n",
    "# The number \"1\" means that it is atom-wise tokenization.\n",
    "all_characters_anion = [char for sublist in tokenized_anion for char in sublist] # flatten the list of lists\n",
    "vocab_anion = sorted(set(all_characters_anion))\n",
    "print('The size of the vocabulary of anion is',len(vocab_anion),'\\n')\n"
   ]
  },
  {
   "cell_type": "code",
   "execution_count": 6,
   "metadata": {},
   "outputs": [
    {
     "name": "stdout",
     "output_type": "stream",
     "text": [
      "The size of the total vocabulary is 63 \n",
      "\n"
     ]
    },
    {
     "data": {
      "text/plain": [
       "['#',\n",
       " '(',\n",
       " ')',\n",
       " '-',\n",
       " '.',\n",
       " '/',\n",
       " '1',\n",
       " '2',\n",
       " '3',\n",
       " '=',\n",
       " 'Br',\n",
       " 'C',\n",
       " 'Cl',\n",
       " 'F',\n",
       " 'N',\n",
       " 'O',\n",
       " 'P',\n",
       " 'S',\n",
       " '[2H]',\n",
       " '[Al-]',\n",
       " '[Al]',\n",
       " '[B-]',\n",
       " '[Br-]',\n",
       " '[C-]',\n",
       " '[C@@H]',\n",
       " '[C@H]',\n",
       " '[Cl-]',\n",
       " '[Cl]',\n",
       " '[Co--]',\n",
       " '[Fe-]',\n",
       " '[Ga-]',\n",
       " '[Gd-3]',\n",
       " '[I-]',\n",
       " '[In-]',\n",
       " '[Mn--]',\n",
       " '[N+]',\n",
       " '[N-]',\n",
       " '[N@+]',\n",
       " '[N@@+]',\n",
       " '[N@@]',\n",
       " '[N@H+]',\n",
       " '[NH+]',\n",
       " '[NH2+]',\n",
       " '[NH3+]',\n",
       " '[O-]',\n",
       " '[OH-]',\n",
       " '[O]',\n",
       " '[P+]',\n",
       " '[P-]',\n",
       " '[Re]',\n",
       " '[S+]',\n",
       " '[S-]',\n",
       " '[Si]',\n",
       " '[Zn-]',\n",
       " '[Zn]',\n",
       " '[c+]',\n",
       " '[n+]',\n",
       " '[n-]',\n",
       " '[nH+]',\n",
       " '[nH]',\n",
       " '\\\\',\n",
       " 'c',\n",
       " 'n']"
      ]
     },
     "execution_count": 6,
     "metadata": {},
     "output_type": "execute_result"
    }
   ],
   "source": [
    "vocab= sorted(set(vocab_cation + vocab_anion))\n",
    "print('The size of the total vocabulary is',len(vocab),'\\n')\n",
    "vocab"
   ]
  },
  {
   "cell_type": "markdown",
   "metadata": {},
   "source": [
    "## Mapping from characters to integers"
   ]
  },
  {
   "cell_type": "code",
   "execution_count": 7,
   "metadata": {},
   "outputs": [],
   "source": [
    "# Mapping from characters to integers\n",
    "# We need to add one more word to the vocabulary to represent the padded values\n",
    "vocab.append('<PAD>')  # Add a special padding token\n",
    "char_to_int = {char: i for i, char in enumerate(vocab)}  # Update mapping with padding token\n",
    "int_to_char = {i: char for char, i in char_to_int.items()}  # Create reverse mapping\n"
   ]
  },
  {
   "cell_type": "code",
   "execution_count": 8,
   "metadata": {},
   "outputs": [
    {
     "data": {
      "text/plain": [
       "63"
      ]
     },
     "execution_count": 8,
     "metadata": {},
     "output_type": "execute_result"
    }
   ],
   "source": [
    "char_to_int[\"<PAD>\"]"
   ]
  },
  {
   "cell_type": "code",
   "execution_count": 9,
   "metadata": {},
   "outputs": [],
   "source": [
    "# Convert SMILES to integer representation\n",
    "encoded_cation = [[char_to_int[char] for char in smile] for smile in tokenized_cation]\n",
    "encoded_anion = [[char_to_int[char] for char in smile] for smile in tokenized_anion]"
   ]
  },
  {
   "cell_type": "code",
   "execution_count": 10,
   "metadata": {},
   "outputs": [
    {
     "name": "stdout",
     "output_type": "stream",
     "text": [
      "Example:\n",
      "SMILES representation COCC[N+]1(C)CCCCCC1\n",
      "Vector representation [11, 15, 11, 11, 35, 6, 1, 11, 2, 11, 11, 11, 11, 11, 11, 6]\n"
     ]
    }
   ],
   "source": [
    "print(\"Example:\")\n",
    "print(\"SMILES representation\",cation_smiles[0])\n",
    "print(\"Vector representation\",encoded_cation[0])"
   ]
  },
  {
   "cell_type": "markdown",
   "metadata": {},
   "source": [
    "# Padding"
   ]
  },
  {
   "cell_type": "code",
   "execution_count": 11,
   "metadata": {},
   "outputs": [
    {
     "name": "stdout",
     "output_type": "stream",
     "text": [
      "The longest cation has 76 tokens\n",
      "The shortest cation has 3 tokens\n"
     ]
    }
   ],
   "source": [
    "v_cat=[]\n",
    "for i in range(len(tokenized_cation)):\n",
    "    v_cat.append(len(tokenized_cation[i]))\n",
    "v_cat=np.array(v_cat)\n",
    "print(\"The longest cation has\",np.max(v_cat),\"tokens\")\n",
    "print(\"The shortest cation has\",np.min(v_cat),\"tokens\")"
   ]
  },
  {
   "cell_type": "code",
   "execution_count": 12,
   "metadata": {},
   "outputs": [
    {
     "name": "stdout",
     "output_type": "stream",
     "text": [
      "The longest anion has 89 tokens\n",
      "The shortest anion has 1 tokens\n"
     ]
    }
   ],
   "source": [
    "v_an=[]\n",
    "for i in range(len(tokenized_anion)):\n",
    "    v_an.append(len(tokenized_anion[i]))\n",
    "v_an=np.array(v_an)\n",
    "print(\"The longest anion has\",np.max(v_an),\"tokens\")\n",
    "print(\"The shortest anion has\",np.min(v_an),\"tokens\")"
   ]
  },
  {
   "cell_type": "code",
   "execution_count": 13,
   "metadata": {},
   "outputs": [],
   "source": [
    "import torch\n",
    "from torch.nn.utils.rnn import pad_sequence"
   ]
  },
  {
   "cell_type": "code",
   "execution_count": 14,
   "metadata": {},
   "outputs": [],
   "source": [
    "# Pad the cations sequences to have the same length\n",
    "max_length_cat = max(len(s) for s in encoded_cation)\n",
    "padding_value = char_to_int['<PAD>']  # Padding value is the index of '<PAD>'\n",
    "padded_cation = pad_sequence([torch.tensor(s) for s in encoded_cation],\n",
    "                             batch_first=True, padding_value=padding_value)\n",
    "\n",
    "# Pad the anionss sequences to have the same length\n",
    "max_length_an = max(len(s) for s in encoded_anion)\n",
    "padding_value = char_to_int['<PAD>']  # Padding value is the index of '<PAD>'\n",
    "padded_anion = pad_sequence([torch.tensor(s) for s in encoded_anion],\n",
    "                             batch_first=True, padding_value=padding_value)"
   ]
  },
  {
   "cell_type": "code",
   "execution_count": 15,
   "metadata": {},
   "outputs": [
    {
     "name": "stdout",
     "output_type": "stream",
     "text": [
      "[11, 11, 11, 11, 56, 6, 61, 61, 61, 61, 61, 6]\n",
      "tensor([11, 11, 11, 11, 56,  6, 61, 61, 61, 61, 61,  6, 63, 63, 63, 63, 63, 63,\n",
      "        63, 63, 63, 63, 63, 63, 63, 63, 63, 63, 63, 63, 63, 63, 63, 63, 63, 63,\n",
      "        63, 63, 63, 63, 63, 63, 63, 63, 63, 63, 63, 63, 63, 63, 63, 63, 63, 63,\n",
      "        63, 63, 63, 63, 63, 63, 63, 63, 63, 63, 63, 63, 63, 63, 63, 63, 63, 63,\n",
      "        63, 63, 63, 63])\n"
     ]
    }
   ],
   "source": [
    "print(encoded_cation[1000])\n",
    "print(padded_cation[1000])"
   ]
  },
  {
   "cell_type": "code",
   "execution_count": 16,
   "metadata": {},
   "outputs": [
    {
     "name": "stdout",
     "output_type": "stream",
     "text": [
      "torch.Size([1161, 76])\n",
      "torch.Size([1161, 89])\n"
     ]
    }
   ],
   "source": [
    "# Check that the encoded smiles have been padded\n",
    "print(padded_cation.shape)\n",
    "print(padded_anion.shape)\n"
   ]
  },
  {
   "cell_type": "code",
   "execution_count": 17,
   "metadata": {},
   "outputs": [],
   "source": [
    "def one_hot_encode(sequence, vocab_size, padding_value=char_to_int['<PAD>']):\n",
    "    \"\"\"One-hot encodes a sequence of integers, ignoring padding values.\"\"\"\n",
    "    encoding = torch.zeros(len(sequence), vocab_size)\n",
    "    for i, integer in enumerate(sequence):\n",
    "        if integer != padding_value:  # Only encode non-padding values\n",
    "            encoding[i][integer] = 1\n",
    "    return encoding\n",
    "\n",
    "\n",
    "# One-hot encode the padded sequences\n",
    "vocab_size = len(vocab)  # Include the padding token in the vocab size\n",
    "one_hot_encoded_cation = torch.stack([one_hot_encode(s, vocab_size) for s in padded_cation])\n",
    "one_hot_encoded_anion = torch.stack([one_hot_encode(s, vocab_size) for s in padded_anion])"
   ]
  },
  {
   "cell_type": "code",
   "execution_count": 18,
   "metadata": {},
   "outputs": [
    {
     "name": "stdout",
     "output_type": "stream",
     "text": [
      "The shape of the cation tensor is torch.Size([1161, 76, 64])\n",
      "The shape of the anion tensor is torch.Size([1161, 89, 64])\n"
     ]
    }
   ],
   "source": [
    "print(\"The shape of the cation tensor is\",one_hot_encoded_cation.shape)\n",
    "print(\"The shape of the anion tensor is\",one_hot_encoded_anion.shape)"
   ]
  },
  {
   "cell_type": "code",
   "execution_count": 19,
   "metadata": {},
   "outputs": [
    {
     "name": "stdout",
     "output_type": "stream",
     "text": [
      "The number of inputs to define the structure of each cation is:  4864\n",
      "The number of inputs to define the structure of each anion is:  5696\n"
     ]
    }
   ],
   "source": [
    "matsize_cation=one_hot_encoded_cation.shape[1]*one_hot_encoded_cation.shape[2]\n",
    "matsize_anion=one_hot_encoded_anion.shape[1]*one_hot_encoded_anion.shape[2]\n",
    "print(\"The number of inputs to define the structure of each cation is: \",matsize_cation)\n",
    "print(\"The number of inputs to define the structure of each anion is: \",matsize_anion)"
   ]
  },
  {
   "cell_type": "markdown",
   "metadata": {},
   "source": [
    "## Flatten the matrices"
   ]
  },
  {
   "cell_type": "code",
   "execution_count": 26,
   "metadata": {},
   "outputs": [
    {
     "data": {
      "text/plain": [
       "torch.Size([76, 64])"
      ]
     },
     "execution_count": 26,
     "metadata": {},
     "output_type": "execute_result"
    }
   ],
   "source": [
    "one_hot_encoded_cation[0].shape"
   ]
  },
  {
   "cell_type": "code",
   "execution_count": 21,
   "metadata": {},
   "outputs": [
    {
     "name": "stdout",
     "output_type": "stream",
     "text": [
      "torch.Size([1161, 4864])\n",
      "torch.Size([1161, 5696])\n"
     ]
    }
   ],
   "source": [
    "flat_cation = one_hot_encoded_cation.reshape(one_hot_encoded_cation.size(0), -1)\n",
    "flat_anion = one_hot_encoded_anion.reshape(one_hot_encoded_anion.size(0), -1)\n",
    "\n",
    "# Verify the new shapes\n",
    "print(flat_cation.shape)\n",
    "print(flat_anion.shape)\n"
   ]
  },
  {
   "cell_type": "code",
   "execution_count": 33,
   "metadata": {},
   "outputs": [
    {
     "data": {
      "text/plain": [
       "10"
      ]
     },
     "execution_count": 33,
     "metadata": {},
     "output_type": "execute_result"
    }
   ],
   "source": [
    "np.argmax(v_cat)"
   ]
  },
  {
   "cell_type": "code",
   "execution_count": 133,
   "metadata": {},
   "outputs": [
    {
     "name": "stdout",
     "output_type": "stream",
     "text": [
      "mass cation:  46.092\n",
      "mass anion:  97.071\n"
     ]
    },
    {
     "data": {
      "image/png": "[encoded data removed]",
      "text/plain": [
       "<Figure size 720x480 with 2 Axes>"
      ]
     },
     "metadata": {
      "needs_background": "light"
     },
     "output_type": "display_data"
    }
   ],
   "source": [
    "argument= np.argmin(v_cat)\n",
    "\n",
    "tensor_cat=one_hot_encoded_cation[argument]\n",
    "array_cat = tensor_cat.numpy()\n",
    "\n",
    "tensor_an=one_hot_encoded_anion[argument]\n",
    "array_an = tensor_an.numpy()\n",
    "\n",
    "\n",
    "fig, axs = plt.subplots(1, 2, dpi=120)\n",
    "plt.subplots_adjust(wspace=0.3) \n",
    "axs[0].imshow(array_cat, cmap='gray', aspect='equal')\n",
    "axs[0].set_title('Cation')\n",
    "axs[0].set_ylim([np.shape(array_cat)[0]-1,-1])\n",
    "\n",
    "axs[1].imshow(array_an, cmap='gray', aspect='equal')\n",
    "axs[1].set_title('Anion')\n",
    "axs[1].set_ylim([np.shape(array_an)[0]-1,-1])\n",
    "\n",
    "for ax in axs.flat:\n",
    "    ax.set(xlabel='Token', ylabel='Token position')\n",
    "\n",
    "print(\"mass cation: \", cation_mass[argument])\n",
    "print(\"mass anion: \", anion_mass[argument])"
   ]
  },
  {
   "cell_type": "code",
   "execution_count": 134,
   "metadata": {},
   "outputs": [
    {
     "name": "stdout",
     "output_type": "stream",
     "text": [
      "mass cation:  925.721\n",
      "mass anion:  66.042\n"
     ]
    },
    {
     "data": {
      "image/png": "[encoded data removed]",
      "text/plain": [
       "<Figure size 720x480 with 2 Axes>"
      ]
     },
     "metadata": {
      "needs_background": "light"
     },
     "output_type": "display_data"
    }
   ],
   "source": [
    "argument= np.argmax(v_cat)\n",
    "\n",
    "tensor_cat=one_hot_encoded_cation[argument]\n",
    "array_cat = tensor_cat.numpy()\n",
    "\n",
    "tensor_an=one_hot_encoded_anion[argument]\n",
    "array_an = tensor_an.numpy()\n",
    "\n",
    "\n",
    "fig, axs = plt.subplots(1, 2, dpi=120)\n",
    "plt.subplots_adjust(wspace=0.3) \n",
    "axs[0].imshow(array_cat, cmap='gray', aspect='equal')\n",
    "axs[0].set_title('Cation')\n",
    "axs[0].set_ylim([np.shape(array_cat)[0]-1,-1])\n",
    "\n",
    "axs[1].imshow(array_an, cmap='gray', aspect='equal')\n",
    "axs[1].set_title('Anion')\n",
    "axs[1].set_ylim([np.shape(array_an)[0]-1,-1])\n",
    "\n",
    "for ax in axs.flat:\n",
    "    ax.set(xlabel='Token', ylabel='Token position')\n",
    "\n",
    "print(\"mass cation: \", cation_mass[argument])\n",
    "print(\"mass anion: \", anion_mass[argument])"
   ]
  },
  {
   "cell_type": "code",
   "execution_count": 135,
   "metadata": {},
   "outputs": [
    {
     "name": "stdout",
     "output_type": "stream",
     "text": [
      "mass cation:  97.138\n",
      "mass anion:  35.454\n"
     ]
    },
    {
     "data": {
      "image/png": "[encoded data removed]",
      "text/plain": [
       "<Figure size 720x480 with 2 Axes>"
      ]
     },
     "metadata": {
      "needs_background": "light"
     },
     "output_type": "display_data"
    }
   ],
   "source": [
    "argument= np.argmin(v_an)\n",
    "\n",
    "tensor_cat=one_hot_encoded_cation[argument]\n",
    "array_cat = tensor_cat.numpy()\n",
    "\n",
    "tensor_an=one_hot_encoded_anion[argument]\n",
    "array_an = tensor_an.numpy()\n",
    "\n",
    "\n",
    "fig, axs = plt.subplots(1, 2, dpi=120)\n",
    "plt.subplots_adjust(wspace=0.3) \n",
    "axs[0].imshow(array_cat, cmap='gray', aspect='equal')\n",
    "axs[0].set_title('Cation')\n",
    "axs[0].set_ylim([np.shape(array_cat)[0]-1,-1])\n",
    "\n",
    "axs[1].imshow(array_an, cmap='gray', aspect='equal')\n",
    "axs[1].set_title('Anion')\n",
    "axs[1].set_ylim([np.shape(array_an)[0]-1,-1])\n",
    "\n",
    "for ax in axs.flat:\n",
    "    ax.set(xlabel='Token', ylabel='Token position')\n",
    "    \n",
    "    \n",
    "print(\"mass cation: \", cation_mass[argument])\n",
    "print(\"mass anion: \", anion_mass[argument])\n",
    "\n"
   ]
  },
  {
   "cell_type": "code",
   "execution_count": 136,
   "metadata": {},
   "outputs": [
    {
     "name": "stdout",
     "output_type": "stream",
     "text": [
      "mass cation:  483.856\n",
      "mass anion:  679.036\n"
     ]
    },
    {
     "data": {
      "image/png": "[encoded data removed]",
      "text/plain": [
       "<Figure size 720x480 with 2 Axes>"
      ]
     },
     "metadata": {
      "needs_background": "light"
     },
     "output_type": "display_data"
    }
   ],
   "source": [
    "argument= np.argmax(v_an)\n",
    "\n",
    "tensor_cat=one_hot_encoded_cation[argument]\n",
    "array_cat = tensor_cat.numpy()\n",
    "\n",
    "tensor_an=one_hot_encoded_anion[argument]\n",
    "array_an = tensor_an.numpy()\n",
    "\n",
    "\n",
    "fig, axs = plt.subplots(1, 2, dpi=120)\n",
    "plt.subplots_adjust(wspace=0.3) \n",
    "axs[0].imshow(array_cat, cmap='gray', aspect='equal')\n",
    "axs[0].set_title('Cation')\n",
    "axs[0].set_ylim([np.shape(array_cat)[0]-1,-1])\n",
    "\n",
    "axs[1].imshow(array_an, cmap='gray', aspect='equal')\n",
    "axs[1].set_title('Anion')\n",
    "axs[1].set_ylim([np.shape(array_an)[0]-1,-1])\n",
    "\n",
    "for ax in axs.flat:\n",
    "    ax.set(xlabel='Token', ylabel='Token position')\n",
    "\n",
    "print(\"mass cation: \", cation_mass[argument])\n",
    "print(\"mass anion: \", anion_mass[argument])"
   ]
  },
  {
   "cell_type": "code",
   "execution_count": null,
   "metadata": {},
   "outputs": [],
   "source": []
  }
 ],
 "metadata": {
  "kernelspec": {
   "display_name": "base",
   "language": "python",
   "name": "python3"
  },
  "language_info": {
   "codemirror_mode": {
    "name": "ipython",
    "version": 3
   },
   "file_extension": ".py",
   "mimetype": "text/x-python",
   "name": "python",
   "nbconvert_exporter": "python",
   "pygments_lexer": "ipython3",
   "version": "3.9.12"
  }
 },
 "nbformat": 4,
 "nbformat_minor": 2
}
